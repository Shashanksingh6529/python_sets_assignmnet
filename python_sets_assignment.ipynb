{
 "cells": [
  {
   "cell_type": "markdown",
   "id": "dae6181a-aa71-43c4-b0e9-86ff08b66aef",
   "metadata": {},
   "source": [
    "Q1. What is a set in Python?"
   ]
  },
  {
   "cell_type": "code",
   "execution_count": 1,
   "id": "c3954e91-dbb1-499f-8b07-ddc69f1fa9d5",
   "metadata": {},
   "outputs": [
    {
     "data": {
      "text/plain": [
       "\"Uniqueness: Sets cannot contain duplicate elements. If you try to add a duplicate element to a set, it will be ignored.\\nUnordered: The elements in a set are not stored in any particular order. When you iterate over a set or convert it to a list, the order of elements may not be the same as the order in which you added them.\\nMutability: Sets are mutable, meaning you can add or remove elements from them. However, the elements themselves must be immutable.\\nHashability: Elements in a set must be hashable, which means they must be immutable and have a hash value that doesn't change over time. This is why sets can contain only immutable types, such as integers, strings, and tuples.\""
      ]
     },
     "execution_count": 1,
     "metadata": {},
     "output_type": "execute_result"
    }
   ],
   "source": [
    "\"\"\"Uniqueness: Sets cannot contain duplicate elements. If you try to add a duplicate element to a set, it will be ignored.\n",
    "Unordered: The elements in a set are not stored in any particular order. When you iterate over a set or convert it to a list, the order of elements may not be the same as the order in which you added them.\n",
    "Mutability: Sets are mutable, meaning you can add or remove elements from them. However, the elements themselves must be immutable.\n",
    "Hashability: Elements in a set must be hashable, which means they must be immutable and have a hash value that doesn't change over time. This is why sets can contain only immutable types, such as integers, strings, and tuples.\"\"\""
   ]
  },
  {
   "cell_type": "markdown",
   "id": "e4273d43-6b80-4d65-9efc-966c725b0646",
   "metadata": {},
   "source": [
    "Q2.How do you create a set in Python?"
   ]
  },
  {
   "cell_type": "code",
   "execution_count": 2,
   "id": "5f8c8968-474d-4e6a-8b84-63ee5be3907d",
   "metadata": {},
   "outputs": [],
   "source": [
    "my_set = {1, 2, 3, 4, 5}"
   ]
  },
  {
   "cell_type": "code",
   "execution_count": 3,
   "id": "c24949b9-c95a-4b9c-8364-f55c5d6add65",
   "metadata": {},
   "outputs": [],
   "source": [
    "my_set = set([1, 2, 3, 4, 5])"
   ]
  },
  {
   "cell_type": "markdown",
   "id": "e43ca3fd-72d0-4854-b78a-bd9fb38bc882",
   "metadata": {},
   "source": [
    "Q3. How do you add elements to a set in Python?"
   ]
  },
  {
   "cell_type": "code",
   "execution_count": 4,
   "id": "41ed07e9-6fc8-4c9c-853c-7b3a49caf165",
   "metadata": {},
   "outputs": [
    {
     "name": "stdout",
     "output_type": "stream",
     "text": [
      "{1, 2, 3, 4}\n",
      "{1, 2, 3, 4, 5, 6}\n"
     ]
    }
   ],
   "source": [
    "my_set = {1, 2, 3}\n",
    "my_set.add(4)\n",
    "print(my_set)\n",
    "\n",
    "my_set_ = {1, 2, 3}\n",
    "my_set_.update([4, 5, 6])\n",
    "print(my_set_)"
   ]
  },
  {
   "cell_type": "markdown",
   "id": "51423b98-58ca-4a07-97c0-efcaad128c50",
   "metadata": {},
   "source": [
    "Q4. How do you remove elements from a set in Python?"
   ]
  },
  {
   "cell_type": "code",
   "execution_count": 5,
   "id": "56c14a07-fe87-433c-a73a-dd9546f4ed03",
   "metadata": {},
   "outputs": [
    {
     "name": "stdout",
     "output_type": "stream",
     "text": [
      "{1, 2, 4, 5}\n"
     ]
    }
   ],
   "source": [
    "my_set_1 = {1, 2, 3, 4, 5}\n",
    "my_set_1.remove(3)\n",
    "print(my_set_1)\n"
   ]
  },
  {
   "cell_type": "code",
   "execution_count": 6,
   "id": "d776fc1a-434c-45a0-b932-b4fb22cf5621",
   "metadata": {},
   "outputs": [
    {
     "name": "stdout",
     "output_type": "stream",
     "text": [
      "{1, 2, 4, 5}\n"
     ]
    }
   ],
   "source": [
    "my_set_2 = {1, 2, 3, 4, 5}\n",
    "my_set_2.discard(3)\n",
    "print(my_set_2)"
   ]
  },
  {
   "cell_type": "code",
   "execution_count": 7,
   "id": "4ddfaad1-04bf-47d2-98f3-1208f928e0ee",
   "metadata": {},
   "outputs": [
    {
     "name": "stdout",
     "output_type": "stream",
     "text": [
      "{2, 3, 4, 5}\n"
     ]
    }
   ],
   "source": [
    "my_set_3 = {1, 2, 3, 4, 5}\n",
    "popped_element = my_set_3.pop()\n",
    "print(my_set_3)"
   ]
  },
  {
   "cell_type": "code",
   "execution_count": null,
   "id": "5b396dac-19e2-4e69-a02c-61ff6b863c20",
   "metadata": {},
   "outputs": [],
   "source": []
  }
 ],
 "metadata": {
  "kernelspec": {
   "display_name": "Python 3 (ipykernel)",
   "language": "python",
   "name": "python3"
  },
  "language_info": {
   "codemirror_mode": {
    "name": "ipython",
    "version": 3
   },
   "file_extension": ".py",
   "mimetype": "text/x-python",
   "name": "python",
   "nbconvert_exporter": "python",
   "pygments_lexer": "ipython3",
   "version": "3.10.8"
  }
 },
 "nbformat": 4,
 "nbformat_minor": 5
}
